{
 "cells": [
  {
   "cell_type": "code",
   "execution_count": 1,
   "metadata": {},
   "outputs": [],
   "source": [
    "from pyspark.sql import SparkSession\n",
    "from pyspark.sql.functions import * \n",
    "from pyspark.sql.types import *\n",
    "from pyspark.sql.window import Window"
   ]
  },
  {
   "cell_type": "code",
   "execution_count": 2,
   "metadata": {},
   "outputs": [],
   "source": [
    "spark = SparkSession.builder \\\n",
    "    .appName(\"queryoutput\")\\\n",
    "    .getOrCreate()"
   ]
  },
  {
   "cell_type": "code",
   "execution_count": 3,
   "metadata": {},
   "outputs": [],
   "source": [
    "df_damages = spark.read.format(\"csv\").option(\"header\", \"true\").option(\"inferSchema\",\"true\").load(\"../input_data/Damages_use.csv\").distinct()\n",
    "df_endorse = spark.read.format(\"csv\").option(\"header\", \"true\").option(\"inferSchema\",\"true\").load(\"../input_data/Endorse_use.csv\").distinct()\n",
    "df_charges = spark.read.format(\"csv\").option(\"header\", \"true\").option(\"inferSchema\",\"true\").load(\"../input_data/Charges_use.csv\").distinct()\n",
    "df_restrict = spark.read.format(\"csv\").option(\"header\", \"true\").option(\"inferSchema\",\"true\").load(\"../input_data/Restrict_use.csv\").distinct()\n",
    "df_primperson = spark.read.format(\"csv\").option(\"header\", \"true\").option(\"inferSchema\",\"true\").load(\"../input_data/Primary_Person_use.csv\").distinct()\n",
    "df_units = spark.read.format(\"csv\").option(\"header\", \"true\").option(\"inferSchema\",\"true\").load(\"../input_data/Units_use.csv\").distinct()"
   ]
  },
  {
   "cell_type": "code",
   "execution_count": 5,
   "metadata": {},
   "outputs": [
    {
     "name": "stdout",
     "output_type": "stream",
     "text": [
      "+--------------------------------+\n",
      "|NO_OF_CRASHES_OF_MALE_DEATH_GT_2|\n",
      "+--------------------------------+\n",
      "|                               0|\n",
      "+--------------------------------+\n",
      "\n"
     ]
    }
   ],
   "source": [
    "\"\"\"\n",
    "1. Find the number of crashes (accidents) in which number of males killed are greater than 2?\n",
    "\"\"\"\n",
    "df = (df_primperson\n",
    "              .filter((col('PRSN_GNDR_ID') == 'MALE') & (col('DEATH_CNT') == 1))\n",
    "              .groupBy('CRASH_ID')\n",
    "              .agg(sum(col(\"DEATH_CNT\")).alias(\"NO_OF_MALES_KILLED\"))\n",
    "              .filter(col(\"NO_OF_MALES_KILLED\") > 2)\n",
    "              .agg(count(\"NO_OF_MALES_KILLED\").alias(\"NO_OF_CRASHES_OF_MALE_DEATH_GT_2\")))\n",
    "df.show()"
   ]
  },
  {
   "cell_type": "code",
   "execution_count": 6,
   "metadata": {},
   "outputs": [
    {
     "name": "stdout",
     "output_type": "stream",
     "text": [
      "+---------------------------+\n",
      "|NO_OF_DISTINCT_TWO_WHEELERS|\n",
      "+---------------------------+\n",
      "|                        766|\n",
      "+---------------------------+\n",
      "\n"
     ]
    }
   ],
   "source": [
    "\"\"\"\n",
    "2. How many two wheelers are booked for crashes?\n",
    "\"\"\"\n",
    "df = (df_units\n",
    "              .filter(col('VEH_BODY_STYL_ID').isin(\"MOTORCYCLE\", \"POLICE MOTORCYCLE\"))\n",
    "              .select(countDistinct('VIN').alias('NO_OF_DISTINCT_TWO_WHEELERS')))\n",
    "df.show()"
   ]
  },
  {
   "cell_type": "code",
   "execution_count": 7,
   "metadata": {},
   "outputs": [
    {
     "name": "stdout",
     "output_type": "stream",
     "text": [
      "+-----------+------------------------------+\n",
      "|VEH_MAKE_ID|COUNT_OF_VEHICLES_PER_VEH_MAKE|\n",
      "+-----------+------------------------------+\n",
      "|     NISSAN|                             4|\n",
      "|  CHEVROLET|                             3|\n",
      "|       FORD|                             2|\n",
      "|      HONDA|                             2|\n",
      "|      BUICK|                             1|\n",
      "+-----------+------------------------------+\n",
      "\n"
     ]
    }
   ],
   "source": [
    "\"\"\"\n",
    "3. Determine the Top 5 Vehicle Makes of the cars present in the crashes in which driver died and Airbags did not deploy\n",
    "\"\"\"\n",
    "df = (df_primperson\n",
    "              .join(df_units, on=['CRASH_ID', 'UNIT_NBR'], how=\"inner\")\n",
    "              .filter((col('PRSN_TYPE_ID').contains('DRIVER')) & \n",
    "                      (col('PRSN_AIRBAG_ID') == 'NOT DEPLOYED') &\n",
    "                      (df_primperson.DEATH_CNT == 1) & \n",
    "                      (col('VEH_BODY_STYL_ID').contains('CAR')))\n",
    "              .groupBy('VEH_MAKE_ID')\n",
    "              .agg(countDistinct(\"VIN\").alias('COUNT_OF_VEHICLES_PER_VEH_MAKE'))\n",
    "              .orderBy(col('COUNT_OF_VEHICLES_PER_VEH_MAKE').desc(), col('VEH_MAKE_ID').asc())\n",
    "              .limit(5))\n",
    "df.show()"
   ]
  },
  {
   "cell_type": "code",
   "execution_count": 8,
   "metadata": {},
   "outputs": [
    {
     "name": "stdout",
     "output_type": "stream",
     "text": [
      "+--------------+\n",
      "|NO_OF_VEHICLES|\n",
      "+--------------+\n",
      "|          2365|\n",
      "+--------------+\n",
      "\n"
     ]
    }
   ],
   "source": [
    "\"\"\"\n",
    "4. Determine number of Vehicles with driver having valid licences involved in hit and run?\n",
    "\"\"\"\n",
    "        # Considering VALID DRIVER LICENSES as the ones with class ID in the list->\n",
    "        # [CLASS A, CLASS B, CLASS C, CLASS M, CLASS A AND M, CLASS B AND M, CLASS C AND M]\n",
    "df = (df_primperson\n",
    "              .join(df_units, on=['CRASH_ID', 'UNIT_NBR'], how=\"inner\")\n",
    "              .filter((col('PRSN_TYPE_ID').contains('DRIVER')) & \n",
    "                      (col('DRVR_LIC_CLS_ID').contains('CLASS')) &\n",
    "                      (col('VEH_HNR_FL') == 'Y'))\n",
    "              .select(countDistinct(\"VIN\").alias(\"NO_OF_VEHICLES\")))\n",
    "df.show()"
   ]
  },
  {
   "cell_type": "code",
   "execution_count": 10,
   "metadata": {},
   "outputs": [
    {
     "name": "stdout",
     "output_type": "stream",
     "text": [
      "+----------------+-----+\n",
      "|VEH_LIC_STATE_ID|count|\n",
      "+----------------+-----+\n",
      "|              TX|34757|\n",
      "+----------------+-----+\n",
      "\n"
     ]
    }
   ],
   "source": [
    "\"\"\"\n",
    "5. Which state has highest number of accidents in which females are not involved?\n",
    "\"\"\"\n",
    "        # This query is written with assumption that the state in which accident occured \n",
    "        # and state of VEH_LIC_STATE_ID is same\n",
    "df_crash_with_no_female = (\n",
    "            df_primperson\n",
    "            .withColumn(\"NO_OF_FEMALES\", when(col(\"PRSN_GNDR_ID\") == \"FEMALE\", 1).otherwise(0))\n",
    "            .groupBy(\"CRASH_ID\")\n",
    "            .agg(sum(col(\"NO_OF_FEMALES\")).alias(\"NO_OF_FEMALES_PER_CRASH\"))\n",
    "            .filter(col(\"NO_OF_FEMALES_PER_CRASH\") == 0)\n",
    "            .select(\"CRASH_ID\")\n",
    "        )\n",
    "\n",
    "df_state_most_accidents = (\n",
    "            df_crash_with_no_female\n",
    "            .join(df_units, on=\"CRASH_ID\", how=\"inner\")\n",
    "            .dropDuplicates([\"CRASH_ID\"])\n",
    "            .groupBy(\"VEH_LIC_STATE_ID\")\n",
    "            .count()\n",
    "            .orderBy(col(\"count\").desc())\n",
    "            .limit(1)\n",
    "        )\n",
    "df_state_most_accidents.show()"
   ]
  },
  {
   "cell_type": "code",
   "execution_count": 11,
   "metadata": {},
   "outputs": [
    {
     "name": "stdout",
     "output_type": "stream",
     "text": [
      "+-----------+-------------------------+---+\n",
      "|VEH_MAKE_ID|TOTAL_INJURIES_VEH_MAKEID|row|\n",
      "+-----------+-------------------------+---+\n",
      "|     TOYOTA|                     4227|  3|\n",
      "|      DODGE|                     3138|  4|\n",
      "|     NISSAN|                     3114|  5|\n",
      "+-----------+-------------------------+---+\n",
      "\n"
     ]
    }
   ],
   "source": [
    "\"\"\"\n",
    "6. Which are the Top 3rd to 5th VEH_MAKE_IDs that contribute to a largest number of injuries including death\n",
    "\"\"\"\n",
    "w = Window.orderBy(col(\"TOTAL_INJURIES_VEH_MAKEID\").desc())\n",
    "\n",
    "df = (df_units\n",
    "              .withColumn('TOTAL_INJURIES', col('TOT_INJRY_CNT') + col('DEATH_CNT'))\n",
    "              .groupBy(\"VEH_MAKE_ID\")\n",
    "              .agg(sum(\"TOTAL_INJURIES\").alias('TOTAL_INJURIES_VEH_MAKEID'))\n",
    "              .withColumn(\"row\", row_number().over(w))\n",
    "              .filter(col(\"row\").between(3, 5)))\n",
    "df.show()"
   ]
  },
  {
   "cell_type": "code",
   "execution_count": 12,
   "metadata": {},
   "outputs": [
    {
     "name": "stdout",
     "output_type": "stream",
     "text": [
      "+--------------------+-----------------+\n",
      "|    VEH_BODY_STYL_ID|PRSN_ETHNICITY_ID|\n",
      "+--------------------+-----------------+\n",
      "|           AMBULANCE|            WHITE|\n",
      "|                 BUS|            BLACK|\n",
      "|      FARM EQUIPMENT|            WHITE|\n",
      "|          FIRE TRUCK|            WHITE|\n",
      "|          MOTORCYCLE|            WHITE|\n",
      "|NEV-NEIGHBORHOOD ...|            WHITE|\n",
      "|PASSENGER CAR, 2-...|            WHITE|\n",
      "|PASSENGER CAR, 4-...|            WHITE|\n",
      "|              PICKUP|            WHITE|\n",
      "|    POLICE CAR/TRUCK|            WHITE|\n",
      "|   POLICE MOTORCYCLE|            WHITE|\n",
      "|SPORT UTILITY VEH...|            WHITE|\n",
      "|               TRUCK|            WHITE|\n",
      "|       TRUCK TRACTOR|            WHITE|\n",
      "|                 VAN|            WHITE|\n",
      "|   YELLOW SCHOOL BUS|            BLACK|\n",
      "+--------------------+-----------------+\n",
      "\n"
     ]
    }
   ],
   "source": [
    "\"\"\"\n",
    "7. For all the body styles involved in crashes, mention the top ethnic user group of each unique body style\n",
    "\"\"\"\n",
    "w = Window.partitionBy(\"VEH_BODY_STYL_ID\").orderBy(col(\"count\").desc())\n",
    "\n",
    "df = (df_primperson\n",
    "              .join(df_units, on=['CRASH_ID', 'UNIT_NBR'], how='inner')\n",
    "              .filter(~col('VEH_BODY_STYL_ID').isin([\"NA\", \"UNKNOWN\", \"NOT REPORTED\", \"OTHER  (EXPLAIN IN NARRATIVE)\"]) &\n",
    "                      ~col('PRSN_ETHNICITY_ID').isin([\"NA\", \"UNKNOWN\"]))\n",
    "              .groupBy(\"VEH_BODY_STYL_ID\", \"PRSN_ETHNICITY_ID\")\n",
    "              .count()\n",
    "              .withColumn(\"row\", row_number().over(w))\n",
    "              .filter(col(\"row\") == 1)\n",
    "              .drop(\"row\", \"count\"))\n",
    "df.show()"
   ]
  },
  {
   "cell_type": "code",
   "execution_count": 13,
   "metadata": {},
   "outputs": [
    {
     "name": "stdout",
     "output_type": "stream",
     "text": [
      "+--------+\n",
      "|DRVR_ZIP|\n",
      "+--------+\n",
      "|   75052|\n",
      "|   75067|\n",
      "|   76010|\n",
      "|   78521|\n",
      "|   78130|\n",
      "+--------+\n",
      "\n"
     ]
    }
   ],
   "source": [
    "\"\"\"\n",
    "8. Among the crashed cars, what are the Top 5 Zip Codes with highest number crashes with alcohols\n",
    "        as the contributing factor to a crash (Use Driver Zip Code)\n",
    "\"\"\"\n",
    "df = (\n",
    "            df_units\n",
    "            .join(df_primperson, on=[\"CRASH_ID\",\"UNIT_NBR\"], how=\"inner\")\n",
    "            .dropna(subset=[\"DRVR_ZIP\"])\n",
    "            .filter(\n",
    "                col(\"CONTRIB_FACTR_1_ID\").contains(\"ALCOHOL\") |\n",
    "                col(\"CONTRIB_FACTR_2_ID\").contains(\"ALCOHOL\") |\n",
    "                col(\"CONTRIB_FACTR_P1_ID\").contains(\"ALCOHOL\")\n",
    "            )\n",
    "            .filter(col(\"VEH_BODY_STYL_ID\").like(\"%CAR%\"))\n",
    "            .dropDuplicates([\"CRASH_ID\"])\n",
    "            .groupby(\"DRVR_ZIP\")\n",
    "            .count()\n",
    "            .orderBy(col(\"count\").desc())\n",
    "            .limit(5)\n",
    "            .drop(\"count\")\n",
    "        )\n",
    "\n",
    "df.show()"
   ]
  },
  {
   "cell_type": "code",
   "execution_count": 14,
   "metadata": {},
   "outputs": [
    {
     "name": "stdout",
     "output_type": "stream",
     "text": [
      "+---------------------------+\n",
      "|COUNT_OF_DISTINCT_CRASH_IDS|\n",
      "+---------------------------+\n",
      "|                       5446|\n",
      "+---------------------------+\n",
      "\n"
     ]
    }
   ],
   "source": [
    "\"\"\"\n",
    "9. Count of Distinct Crash IDs where No Damaged Property was observed and Damage Level (VEH_DMAG_SCL~) is\n",
    "        above 4 and car avails Insurance\n",
    "\"\"\"\n",
    "damage_list_gt4=[\"DAMAGED 5\",\"DAMAGED 6\",\"DAMAGED 7 HIGHEST\"]\n",
    "df = (\n",
    "            df_units.alias(\"u\")\n",
    "            .join(df_damages.alias(\"d\"), on=[\"CRASH_ID\"], how=\"left\")\n",
    "            .filter(\n",
    "                (col(\"u.VEH_DMAG_SCL_1_ID\").isin(damage_list_gt4))  |\n",
    "                (col(\"u.VEH_DMAG_SCL_2_ID\").isin(damage_list_gt4))\n",
    "            )\n",
    "            .filter((col(\"d.DAMAGED_PROPERTY\") == \"NONE\") | (col(\"d.DAMAGED_PROPERTY\").isNull()==True))\n",
    "            .filter(col(\"u.FIN_RESP_TYPE_ID\").like(\"%INSURANCE%\"))\n",
    "            .filter(col(\"u.VEH_BODY_STYL_ID\").like(\"%CAR%\"))\n",
    "            .select(countDistinct(\"u.CRASH_ID\").alias(\"COUNT_OF_DISTINCT_CRASH_IDS\"))\n",
    "        )\n",
    "df.show()"
   ]
  },
  {
   "cell_type": "code",
   "execution_count": 15,
   "metadata": {},
   "outputs": [
    {
     "name": "stdout",
     "output_type": "stream",
     "text": [
      "+-----------+\n",
      "|VEH_MAKE_ID|\n",
      "+-----------+\n",
      "|       FORD|\n",
      "|  CHEVROLET|\n",
      "|     TOYOTA|\n",
      "|      DODGE|\n",
      "|      HONDA|\n",
      "+-----------+\n",
      "\n"
     ]
    }
   ],
   "source": [
    "\"\"\"\n",
    "10. Determine the Top 5 Vehicle Makes where drivers are charged with speeding related offences,\n",
    "        has licensed Drivers, used top 10 used vehicle colours and has car licensed with the Top 25 states\n",
    "        with highest number of offences (to be deduced from the data)\n",
    "\"\"\"\n",
    "top25_offences_state = [\n",
    "            row[0] for row in df_units\n",
    "            .join(df_charges, on=[\"CRASH_ID\",\"UNIT_NBR\"], how=\"inner\")\n",
    "            .filter(col(\"VEH_LIC_STATE_ID\").cast(\"int\").isNull())\n",
    "            .dropDuplicates([\"CRASH_ID\",\"UNIT_NBR\"])\n",
    "            .groupby(\"VEH_LIC_STATE_ID\")\n",
    "            .count()\n",
    "            .orderBy(col(\"count\").desc())\n",
    "            .limit(25)\n",
    "            .collect()\n",
    "        ]\n",
    "\n",
    "top10_vehicle_colors = [\n",
    "            row[0] for row in df_units\n",
    "            .filter(col(\"VEH_COLOR_ID\") != \"NA\")\n",
    "            .dropDuplicates([\"CRASH_ID\",\"UNIT_NBR\"])\n",
    "            .groupby(\"VEH_COLOR_ID\")\n",
    "            .count()\n",
    "            .orderBy(col(\"count\").desc())\n",
    "            .limit(10)\n",
    "            .collect()\n",
    "        ]\n",
    "\n",
    "df = (\n",
    "            df_charges\n",
    "            .join(df_primperson, on=[\"CRASH_ID\",\"UNIT_NBR\"], how=\"inner\")\n",
    "            .join(df_units, on=[\"CRASH_ID\",\"UNIT_NBR\"], how=\"inner\")\n",
    "            .filter(df_charges.CHARGE.contains(\"SPEED\"))\n",
    "            .filter(df_primperson.DRVR_LIC_TYPE_ID.isin([\"DRIVER LICENSE\", \"COMMERCIAL DRIVER LIC.\"]))\n",
    "            .filter(df_units.VEH_COLOR_ID.isin(top10_vehicle_colors))\n",
    "            .filter(df_units.VEH_LIC_STATE_ID.isin(top25_offences_state))\n",
    "            .dropDuplicates([\"CRASH_ID\",\"UNIT_NBR\"])\n",
    "            .groupby(\"VEH_MAKE_ID\")\n",
    "            .count()\n",
    "            .orderBy(col(\"count\").desc())\n",
    "            .limit(5)\n",
    "            .drop(\"count\")\n",
    "        )\n",
    "df.show()"
   ]
  },
  {
   "cell_type": "code",
   "execution_count": null,
   "metadata": {},
   "outputs": [],
   "source": []
  }
 ],
 "metadata": {
  "kernelspec": {
   "display_name": "Python 3",
   "language": "python",
   "name": "python3"
  },
  "language_info": {
   "codemirror_mode": {
    "name": "ipython",
    "version": 3
   },
   "file_extension": ".py",
   "mimetype": "text/x-python",
   "name": "python",
   "nbconvert_exporter": "python",
   "pygments_lexer": "ipython3",
   "version": "3.13.0"
  }
 },
 "nbformat": 4,
 "nbformat_minor": 2
}
